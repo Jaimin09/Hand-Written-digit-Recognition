{
 "cells": [
  {
   "cell_type": "code",
   "execution_count": 14,
   "metadata": {},
   "outputs": [],
   "source": [
    "import numpy as np\n",
    "import matplotlib.pyplot as plt\n",
    "import random\n",
    "import time"
   ]
  },
  {
   "cell_type": "markdown",
   "metadata": {},
   "source": [
    "# Loading csv type data of Hand Written Digits"
   ]
  },
  {
   "cell_type": "code",
   "execution_count": 15,
   "metadata": {},
   "outputs": [],
   "source": [
    "X = np.loadtxt('data.csv', delimiter = ',')\n",
    "Y = np.loadtxt('label_mx10.csv', delimiter = ',')\n",
    "Yr = np.loadtxt('label.csv', delimiter= ',')\n",
    "\n",
    "X = X.T\n",
    "Y = Y.T"
   ]
  },
  {
   "cell_type": "code",
   "execution_count": 16,
   "metadata": {},
   "outputs": [
    {
     "name": "stdout",
     "output_type": "stream",
     "text": [
      "(784, 10000) (10, 10000)\n"
     ]
    }
   ],
   "source": [
    "print(X.shape, Y.shape)"
   ]
  },
  {
   "cell_type": "markdown",
   "metadata": {},
   "source": [
    "# Visualizing images from dataset randomly"
   ]
  },
  {
   "cell_type": "code",
   "execution_count": 17,
   "metadata": {},
   "outputs": [
    {
     "data": {
      "image/png": "[encoded data removed]",
      "text/plain": [
       "<Figure size 432x288 with 1 Axes>"
      ]
     },
     "metadata": {},
     "output_type": "display_data"
    }
   ],
   "source": [
    "index = int(random.randrange(0,X.shape[1]))\n",
    "plt.imshow(X[:, index].reshape((28,28)),cmap='gray')\n",
    "plt.show()"
   ]
  },
  {
   "cell_type": "markdown",
   "metadata": {},
   "source": [
    "# Sigmoid and initialization with zeros"
   ]
  },
  {
   "cell_type": "code",
   "execution_count": 18,
   "metadata": {},
   "outputs": [],
   "source": [
    "def sigmoid(z):\n",
    "    s = 1/(1+ np.exp(-z))\n",
    "    return s"
   ]
  },
  {
   "cell_type": "code",
   "execution_count": 19,
   "metadata": {},
   "outputs": [],
   "source": [
    "w = np.zeros((10,784))\n",
    "b = np.zeros((10,1))"
   ]
  },
  {
   "cell_type": "markdown",
   "metadata": {},
   "source": [
    "# Cost Function"
   ]
  },
  {
   "cell_type": "code",
   "execution_count": 20,
   "metadata": {},
   "outputs": [],
   "source": [
    "def compute_cost(w,b,x, y):\n",
    "    m = x.shape[1]\n",
    "    z = np.dot(w, X) + b\n",
    "    a = sigmoid(z)\n",
    "    cost = -(1/m)*np.sum(y*np.log(a) + (1-y)*np.log(1-a))\n",
    "    dw =  (1/m)*np.dot((a-y), X.T)\n",
    "    db = (1/m)*np.sum((a - y), axis = 1)\n",
    "    db = np.reshape(db, (10,1))\n",
    "    \n",
    "    return cost, dw, db"
   ]
  },
  {
   "cell_type": "markdown",
   "metadata": {},
   "source": [
    "# Gradient"
   ]
  },
  {
   "cell_type": "code",
   "execution_count": 21,
   "metadata": {},
   "outputs": [],
   "source": [
    "def grad(w, b, x, y, learning_rate, iterations):\n",
    "\n",
    "    cost_list = []\n",
    "    for i in range(iterations + 1):\n",
    "        cost, dw, db = compute_cost(w, b, x, y)\n",
    "        w = w - learning_rate*dw\n",
    "        b = b - learning_rate*db\n",
    "        cost_list.append(cost)\n",
    "        \n",
    "        if i%(iterations/10) == 0 :\n",
    "            print(\"Cost after \", i ,\"iterations is \", cost)\n",
    "    \n",
    "    return w, b, cost_list"
   ]
  },
  {
   "cell_type": "markdown",
   "metadata": {},
   "source": [
    "# Model implementation"
   ]
  },
  {
   "cell_type": "code",
   "execution_count": 22,
   "metadata": {},
   "outputs": [
    {
     "name": "stdout",
     "output_type": "stream",
     "text": [
      "Cost after  0 iterations is  6.931471805599453\n",
      "Cost after  50 iterations is  0.9068606753515144\n",
      "Cost after  100 iterations is  0.8166161239864528\n",
      "Cost after  150 iterations is  0.7739922903160867\n",
      "Cost after  200 iterations is  0.7472157299438925\n",
      "Cost after  250 iterations is  0.7280437306596556\n",
      "Cost after  300 iterations is  0.7132294617610933\n",
      "Cost after  350 iterations is  0.7011996757332629\n",
      "Cost after  400 iterations is  0.6910866496007614\n",
      "Cost after  450 iterations is  0.6823667478571757\n",
      "Cost after  500 iterations is  0.6747021936995031\n",
      "Time taken is 18.54 minutes\n"
     ]
    }
   ],
   "source": [
    "iter = 50\n",
    "starttime = time.time()\n",
    "W, B, Cost_list = grad(w, b, X, Y, learning_rate = 0.000015, iterations = iter)\n",
    "endtime = time.time()\n",
    "\n",
    "times = endtime - starttime\n",
    "mintimes = times/60\n",
    "if times > 200:\n",
    "    print(\"Time taken is %.2f\" %mintimes, \"minutes\")\n",
    "else :\n",
    "    print(\"Time taken is %.2f\" %times, \"seconds\")"
   ]
  },
  {
   "cell_type": "markdown",
   "metadata": {},
   "source": [
    "# Ploting Cost function v/s Iterations"
   ]
  },
  {
   "cell_type": "code",
   "execution_count": 23,
   "metadata": {},
   "outputs": [
    {
     "data": {
      "image/png": "[encoded data removed]",
      "text/plain": [
       "<Figure size 432x288 with 1 Axes>"
      ]
     },
     "metadata": {},
     "output_type": "display_data"
    }
   ],
   "source": [
    "t = np.arange(0, iter+1)\n",
    "plt.plot(t, Cost_list)\n",
    "\n",
    "plt.xlabel('Iterations')\n",
    "plt.ylabel('Cost')\n",
    "plt.title('Cost Function v/s Iterations')\n",
    "plt.show()"
   ]
  },
  {
   "cell_type": "markdown",
   "metadata": {},
   "source": [
    "# For Training set"
   ]
  },
  {
   "cell_type": "code",
   "execution_count": 24,
   "metadata": {},
   "outputs": [],
   "source": [
    "z_prob = np.dot(W, X) + B\n",
    "a_prob = sigmoid(z_prob)\n",
    "a_pred  = a_prob.max(0)\n",
    "y_pred = []\n",
    "\n",
    "for i in range(z_prob.shape[1]):\n",
    "    for j in range(z_prob.shape[0]):\n",
    "        if a_prob[j][i] == a_pred[i]:\n",
    "            y_pred.append(j)\n",
    "\n",
    "y_pred = np.array(y_pred)\n",
    "Y_pred = np.reshape(y_pred, (z_prob.shape[1],1))"
   ]
  },
  {
   "cell_type": "markdown",
   "metadata": {},
   "source": [
    "# Training Accuracy"
   ]
  },
  {
   "cell_type": "code",
   "execution_count": 25,
   "metadata": {},
   "outputs": [
    {
     "name": "stdout",
     "output_type": "stream",
     "text": [
      "Our accuracy is 92.27 %\n"
     ]
    }
   ],
   "source": [
    "accuracy = np.mean(Yr == Y_pred.T)*100\n",
    "print(\"Our accuracy is %.2f\" % accuracy, \"%\")"
   ]
  },
  {
   "cell_type": "markdown",
   "metadata": {},
   "source": [
    "# For Test set"
   ]
  },
  {
   "cell_type": "code",
   "execution_count": 26,
   "metadata": {},
   "outputs": [],
   "source": [
    "X_t = np.loadtxt('test_X_1000.csv', delimiter = ',')\n",
    "Y_t = np.loadtxt('test_label_1000.csv', delimiter = ',')\n",
    "\n",
    "X_t = X_t.T\n",
    "Y_t = np.reshape(Y_t, (1,1000))"
   ]
  },
  {
   "cell_type": "code",
   "execution_count": 27,
   "metadata": {},
   "outputs": [],
   "source": [
    "z_test_prob = np.dot(W, X_t) + B\n",
    "a_test_prob = sigmoid(z_test_prob)\n",
    "a_test_pred = a_test_prob.max(0)\n",
    "y_test_pred = []\n",
    "\n",
    "for i in range(z_test_prob.shape[1]):\n",
    "    for j in range(z_test_prob.shape[0]):\n",
    "        if a_test_prob[j][i] == a_test_pred[i]:\n",
    "            y_test_pred.append(j)\n",
    "            \n",
    "y_test_pred = np.array(y_test_pred)\n",
    "y_test_pred = np.reshape(y_test_pred, (z_test_prob.shape[1], 1))"
   ]
  },
  {
   "cell_type": "markdown",
   "metadata": {},
   "source": [
    "# Test Accuracy"
   ]
  },
  {
   "cell_type": "code",
   "execution_count": 28,
   "metadata": {},
   "outputs": [
    {
     "name": "stdout",
     "output_type": "stream",
     "text": [
      "Our Test accuracy is 92.50 %\n"
     ]
    }
   ],
   "source": [
    "accuracy = np.mean(y_test_pred == Y_t.T)*100\n",
    "print(\"Our Test accuracy is %.2f\" %accuracy, \"%\")"
   ]
  },
  {
   "cell_type": "markdown",
   "metadata": {},
   "source": [
    "# Lets visualize our Test set accuracy"
   ]
  },
  {
   "cell_type": "code",
   "execution_count": 21,
   "metadata": {},
   "outputs": [
    {
     "name": "stdout",
     "output_type": "stream",
     "text": [
      "AI (our algorithm says) : This is  [6]\n"
     ]
    },
    {
     "data": {
      "image/png": "[encoded data removed]",
      "text/plain": [
       "<Figure size 432x288 with 1 Axes>"
      ]
     },
     "metadata": {},
     "output_type": "display_data"
    }
   ],
   "source": [
    "index = random.randrange(z_test_prob.shape[1])\n",
    "\n",
    "plt.imshow(X_t[:,index].reshape(28,28), cmap = 'gray')\n",
    "print(\"AI (our algorithm says) : This is \", y_test_pred[index,:])\n",
    "plt.show()"
   ]
  },
  {
   "cell_type": "markdown",
   "metadata": {},
   "source": [
    "# Accuracy History\n",
    "\n",
    "    For learning_rate = .000015\n",
    " For iter = 50,   train = 92.40% , test = 87.40% \n",
    " \n",
    " For iter = 500,  train = 99.10% , test = 88.00%\n",
    " \n",
    " For iter = 1000, train = 99.90% , test = 87.50%\n",
    " \n",
    "    For learning_rate = 0.00002\n",
    " For iter = 1000, train = 99.90 , test = 87.30%"
   ]
  },
  {
   "cell_type": "code",
   "execution_count": null,
   "metadata": {},
   "outputs": [],
   "source": []
  }
 ],
 "metadata": {
  "kernelspec": {
   "display_name": "Python 3",
   "language": "python",
   "name": "python3"
  },
  "language_info": {
   "codemirror_mode": {
    "name": "ipython",
    "version": 3
   },
   "file_extension": ".py",
   "mimetype": "text/x-python",
   "name": "python",
   "nbconvert_exporter": "python",
   "pygments_lexer": "ipython3",
   "version": "3.6.0"
  }
 },
 "nbformat": 4,
 "nbformat_minor": 2
}
