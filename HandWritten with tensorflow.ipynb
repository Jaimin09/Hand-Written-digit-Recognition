{
 "cells": [
  {
   "cell_type": "code",
   "execution_count": 19,
   "metadata": {},
   "outputs": [],
   "source": [
    "import numpy as np\n",
    "import matplotlib.pyplot as plt\n",
    "import tensorflow as tf\n",
    "from tensorflow.python.framework import ops     \n",
    "import time\n",
    "import random\n",
    "from mini_batch import random_mini_batches\n",
    "np.random.seed(1)"
   ]
  },
  {
   "cell_type": "code",
   "execution_count": 12,
   "metadata": {},
   "outputs": [],
   "source": [
    "X = np.loadtxt('data.csv', delimiter = ',')\n",
    "Y = np.loadtxt('label_mx10.csv', delimiter = ',')\n",
    "Yr = np.loadtxt('label.csv', delimiter = ',')\n",
    "\n",
    "X = X[0:3000, :]\n",
    "Y = Y[0:3000, 0:3]\n",
    "\n",
    "X = X.reshape(X.shape[0], 28, 28, 1)"
   ]
  },
  {
   "cell_type": "code",
   "execution_count": 3,
   "metadata": {},
   "outputs": [
    {
     "data": {
      "image/png": "[encoded data removed]",
      "text/plain": [
       "<Figure size 432x288 with 1 Axes>"
      ]
     },
     "metadata": {},
     "output_type": "display_data"
    }
   ],
   "source": [
    "index = random.randrange(X.shape[0])\n",
    "plt.imshow(X[index, :].reshape(28,28), cmap = 'gray')\n",
    "plt.show()"
   ]
  },
  {
   "cell_type": "code",
   "execution_count": 4,
   "metadata": {},
   "outputs": [],
   "source": [
    "def create_placeholder(nH0, nW0, nC0, ny):\n",
    "    X = tf.placeholder(tf.float32, [None, nH0, nW0, nC0], name = 'X')\n",
    "    Y = tf.placeholder(tf.float32, [None, ny], name = 'Y')\n",
    "    return X, Y"
   ]
  },
  {
   "cell_type": "code",
   "execution_count": 5,
   "metadata": {},
   "outputs": [],
   "source": [
    "def initialize_parameters():\n",
    "    W1 = tf.get_variable('W1', [4,4,1,32], initializer = tf.contrib.layers.xavier_initializer(seed =0))\n",
    "    W2 = tf.get_variable('W2', [5,5,32,16], initializer = tf.contrib.layers.xavier_initializer(seed = 0))\n",
    "       \n",
    "    parameters = {\n",
    "        'W1' : W1,\n",
    "        'W2' : W2\n",
    "    }\n",
    "    return parameters"
   ]
  },
  {
   "cell_type": "code",
   "execution_count": 36,
   "metadata": {},
   "outputs": [],
   "source": [
    "def forward_propagation(X, parameters):\n",
    "    W1 = parameters['W1']\n",
    "    W2 = parameters['W2']\n",
    "    \n",
    "    Z1 = tf.nn.conv2d(X, W1, strides = [1,1,1,1], padding = 'VALID')\n",
    "    Z1n = tf.layers.batch_normalization(Z1, axis = 3)\n",
    "    A1 = tf.nn.relu(Z1n)\n",
    "    P1 = tf.nn.max_pool(A1, ksize = [1,5,5,1], strides = [1,1,1,1], padding = 'VALID')\n",
    "    \n",
    "    Z2 = tf.nn.conv2d(P1, W2, strides = [1,1,1,1], padding = 'VALID')\n",
    "    Z2n = tf.layers.batch_normalization(Z2, axis = 3)\n",
    "    A2 = tf.nn.relu(Z2n)\n",
    "    P2 = tf.nn.max_pool(A2, ksize = [1,3,3,1], strides = [1,1,1,1], padding = 'VALID')\n",
    "    \n",
    "    P3 = tf.contrib.layers.flatten(P2)\n",
    "    Z3 = tf.contrib.layers.fully_connected(P3, 3, activation_fn = None)\n",
    "    #Zout = tf.nn.sigmoid(Z3)     # this is decreasing the accuracy\n",
    "     \n",
    "    return Zout      # bn increases time a little bit but, also increases accuracy really well"
   ]
  },
  {
   "cell_type": "code",
   "execution_count": 37,
   "metadata": {},
   "outputs": [],
   "source": [
    "def cost_function(Z3, Y):\n",
    "    cost = tf.reduce_mean(tf.nn.softmax_cross_entropy_with_logits_v2(logits = Z3, labels = Y))\n",
    "    return cost"
   ]
  },
  {
   "cell_type": "code",
   "execution_count": 38,
   "metadata": {},
   "outputs": [],
   "source": [
    "def model(X_train, Y_train, Yr, learning_rate = 0.0001, num_epoch = 10, minibatch_size = 128):\n",
    "    ops.reset_default_graph()\n",
    "    (m, nH0, nW0, nC0) = X_train.shape\n",
    "    ny = Y_train.shape[1]\n",
    "    tf.set_random_seed(1)\n",
    "    \n",
    "    X, Y = create_placeholder(nH0, nW0, nC0, ny)\n",
    "    \n",
    "    parameters = initialize_parameters()\n",
    "    \n",
    "    Z3 = forward_propagation(X, parameters)\n",
    "    \n",
    "    cost = cost_function(Z3, Y)\n",
    "    \n",
    "    optimizer = tf.train.AdamOptimizer(learning_rate = learning_rate).minimize(cost)\n",
    "    \n",
    "    init = tf.global_variables_initializer()\n",
    "    stime = time.time()\n",
    "    cost_list = []\n",
    "    with tf.Session() as sess:\n",
    "        sess.run(init)\n",
    "        \n",
    "        for epoch in range(num_epoch):\n",
    "            epoch_cost = 0\n",
    "            point = 0\n",
    "            num_minibatches = int(m/minibatch_size)\n",
    "            for mini in range(num_minibatches):\n",
    "                mini_X = X_train[point:point+minibatch_size, :]\n",
    "                mini_Y = Y_train[point:point+minibatch_size, :]\n",
    "                point = point + minibatch_size\n",
    "\n",
    "                _, mini_cost = sess.run([optimizer, cost], feed_dict = {X:mini_X, Y:mini_Y})\n",
    "                \n",
    "                epoch_cost += mini_cost/num_minibatches \n",
    "                \n",
    "            cost_list.append(epoch_cost)\n",
    "            if epoch % (num_epoch/5) == 0 :\n",
    "                print(\"Cost after\", epoch, \"is\",epoch_cost)\n",
    "            \n",
    "        etime = time.time()\n",
    "        min_times = (etime - stime)/60\n",
    "        print(\"Time taken is %.2f\" %min_times)\n",
    "        \n",
    "        plt.plot(np.squeeze(cost_list))\n",
    "        plt.ylabel('cost')\n",
    "        plt.xlabel('iterations (per tens)')\n",
    "        plt.title(\"Learning rate =\" + str(learning_rate))\n",
    "        plt.show()\n",
    "        \n",
    "        predict_op = tf.argmax(Z3, 1)\n",
    "        correct_prediction = tf.equal(predict_op, tf.argmax(Y, 1))\n",
    "        accuracy = tf.reduce_mean(tf.cast(correct_prediction, \"float\"))\n",
    "        train_accuracy = accuracy.eval({X: X_train, Y: Y_train})\n",
    "        print(\"Train Accuracy:\", train_accuracy)\n",
    "        \n",
    "        return parameters, train_accuracy"
   ]
  },
  {
   "cell_type": "code",
   "execution_count": 39,
   "metadata": {},
   "outputs": [
    {
     "name": "stdout",
     "output_type": "stream",
     "text": [
      "Cost after 0 is 1.3033596634864806\n",
      "Cost after 1 is 1.0428261041641236\n",
      "Cost after 2 is 0.9920546770095824\n",
      "Cost after 3 is 0.8824999213218688\n",
      "Cost after 4 is 0.8713178277015685\n",
      "Time taken is 1.60\n"
     ]
    },
    {
     "data": {
      "image/png": "[encoded data removed]",
      "text/plain": [
       "<Figure size 432x288 with 1 Axes>"
      ]
     },
     "metadata": {},
     "output_type": "display_data"
    },
    {
     "name": "stdout",
     "output_type": "stream",
     "text": [
      "Train Accuracy: 0.6016667\n"
     ]
    }
   ],
   "source": [
    "p, zr = model(X, Y, Yr, learning_rate = 0.0001, num_epoch = 5, minibatch_size = 512)"
   ]
  },
  {
   "cell_type": "code",
   "execution_count": null,
   "metadata": {},
   "outputs": [],
   "source": []
  }
 ],
 "metadata": {
  "kernelspec": {
   "display_name": "Python 3",
   "language": "python",
   "name": "python3"
  },
  "language_info": {
   "codemirror_mode": {
    "name": "ipython",
    "version": 3
   },
   "file_extension": ".py",
   "mimetype": "text/x-python",
   "name": "python",
   "nbconvert_exporter": "python",
   "pygments_lexer": "ipython3",
   "version": "3.6.0"
  }
 },
 "nbformat": 4,
 "nbformat_minor": 2
}
