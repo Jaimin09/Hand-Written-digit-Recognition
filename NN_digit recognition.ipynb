{
 "cells": [
  {
   "cell_type": "code",
   "execution_count": 102,
   "metadata": {},
   "outputs": [],
   "source": [
    "import numpy as np\n",
    "import matplotlib.pyplot as plt\n",
    "import random\n",
    "import time"
   ]
  },
  {
   "cell_type": "markdown",
   "metadata": {},
   "source": [
    "# Loading Dataset"
   ]
  },
  {
   "cell_type": "code",
   "execution_count": 2,
   "metadata": {},
   "outputs": [],
   "source": [
    "X = np.loadtxt('train_X_1000.csv', delimiter = ',')\n",
    "Y = np.loadtxt('train_label_1000_mx10.csv', delimiter = ',')\n",
    "Yr = np.loadtxt('train_label_1000.csv', delimiter= ',')\n",
    "\n",
    "X = X.T\n",
    "Y = Y.T"
   ]
  },
  {
   "cell_type": "markdown",
   "metadata": {},
   "source": [
    "# Visualizing Data"
   ]
  },
  {
   "cell_type": "code",
   "execution_count": 126,
   "metadata": {},
   "outputs": [
    {
     "data": {
      "image/png": "[encoded data removed]",
      "text/plain": [
       "<Figure size 432x288 with 1 Axes>"
      ]
     },
     "metadata": {},
     "output_type": "display_data"
    }
   ],
   "source": [
    "index = int(random.randrange(0,X.shape[1]))\n",
    "plt.imshow(X[:, index].reshape((28,28)),cmap='gray')\n",
    "plt.show()"
   ]
  },
  {
   "cell_type": "markdown",
   "metadata": {},
   "source": [
    "# Relu, Sigmoid "
   ]
  },
  {
   "cell_type": "code",
   "execution_count": 4,
   "metadata": {},
   "outputs": [],
   "source": [
    "def relu(x):\n",
    "    #r = np.maximum(x, 0, x)\n",
    "    r = np.tanh(x)\n",
    "    return r\n",
    "\n",
    "def sigmoid(x):\n",
    "    r = 1/(1 + np.exp(-x))\n",
    "    return r"
   ]
  },
  {
   "cell_type": "markdown",
   "metadata": {},
   "source": [
    "# Initializations"
   ]
  },
  {
   "cell_type": "code",
   "execution_count": 5,
   "metadata": {},
   "outputs": [],
   "source": [
    "def initialize_parameters(n_x, n_h, n_y):\n",
    "    w1 = np.random.randn(n_h, n_x)*.01\n",
    "    b1 = np.zeros((n_h, 1))\n",
    "    w2 = np.random.randn(n_y, n_h)*.01\n",
    "    b2 = np.zeros((n_y, 1))\n",
    "    \n",
    "    parameters = {\n",
    "        \"w1\" : w1, \n",
    "        \"b1\" : b1, \n",
    "        \"w2\" : w2,\n",
    "        \"b2\" : b2\n",
    "    }\n",
    "    \n",
    "    return parameters"
   ]
  },
  {
   "cell_type": "markdown",
   "metadata": {},
   "source": [
    "# Forward Propagation"
   ]
  },
  {
   "cell_type": "code",
   "execution_count": 6,
   "metadata": {},
   "outputs": [],
   "source": [
    "def forward_prop(x, parameters):\n",
    "    \n",
    "    w1 = parameters['w1']\n",
    "    b1 = parameters['b1']\n",
    "    w2 = parameters['w2']\n",
    "    b2 = parameters['b2']\n",
    "    \n",
    "    z1 = np.dot(w1, x) + b1\n",
    "    a1 = relu(z1)\n",
    "    z2 = np.dot(w2, a1) + b2\n",
    "    a2 = sigmoid(z2)\n",
    "    \n",
    "    cache = {\n",
    "        \"z1\" : z1,\n",
    "        \"a1\" : a1,\n",
    "        \"z2\" : z2,\n",
    "        \"a2\" : a2\n",
    "    }\n",
    "    \n",
    "    return cache"
   ]
  },
  {
   "cell_type": "markdown",
   "metadata": {},
   "source": [
    "# Cost Function"
   ]
  },
  {
   "cell_type": "code",
   "execution_count": 7,
   "metadata": {},
   "outputs": [],
   "source": [
    "def cost_function(a2, y):\n",
    "    m = X.shape[1]\n",
    "    cost = -(1/m)*np.sum(y*np.log(a2) + (1-y)*np.log(1-a2))\n",
    "    return cost"
   ]
  },
  {
   "cell_type": "markdown",
   "metadata": {},
   "source": [
    "# Backward Propagation"
   ]
  },
  {
   "cell_type": "code",
   "execution_count": 8,
   "metadata": {},
   "outputs": [],
   "source": [
    "def backward_prop(x, y, n_h, parameter, cache):\n",
    "    \n",
    "    m = x.shape[1]\n",
    "    n_x = x.shape[0]\n",
    "    n_y = y.shape[0]\n",
    "    \n",
    "    parameters = initialize_parameters(n_x, n_h, n_y)\n",
    "    \n",
    "    w1 = parameters['w1']\n",
    "    b1 = parameters['b1']\n",
    "    w2 = parameters['w2']\n",
    "    b2 = parameters['b2'] \n",
    "    \n",
    "    a1 = cache['a1']\n",
    "    a2 = cache['a2']\n",
    "    \n",
    "    dz2 = (a2 - y)\n",
    "    dw2 = (1/m)*np.dot(dz2, a1.T)\n",
    "    db2 = (1/m)*np.sum(dz2, axis = 1 , keepdims = True)\n",
    "    dz1 = (np.dot(w2.T, dz2))*(1 - np.power(a1, 2))\n",
    "    dw1 = (1/m)*np.dot(dz1, x.T)\n",
    "    db1 = (1/m)*np.sum(dz1, axis = 1, keepdims = True)\n",
    "    \n",
    "    grads = {\n",
    "        \"dw1\" : dw1,\n",
    "        \"db1\" : db1,\n",
    "        \"dw2\" : dw2, \n",
    "        \"db2\" : db2\n",
    "    }\n",
    "    \n",
    "    return grads"
   ]
  },
  {
   "cell_type": "markdown",
   "metadata": {},
   "source": [
    "# Update Parameters"
   ]
  },
  {
   "cell_type": "code",
   "execution_count": 9,
   "metadata": {},
   "outputs": [],
   "source": [
    "def update_parameters(parameters, grads, learning_rate):\n",
    "    \n",
    "    w1 = parameters['w1']\n",
    "    b1 = parameters['b1']\n",
    "    w2 = parameters['w2']\n",
    "    b2 = parameters['b2'] \n",
    "    \n",
    "    dw1 = grads['dw1']\n",
    "    db1 = grads['db1']\n",
    "    dw2 = grads['dw2']\n",
    "    db2 = grads['db2']\n",
    "    \n",
    "    w1 = w1 - learning_rate*dw1\n",
    "    b1 = b1 - learning_rate*db1\n",
    "    w2 = w2 - learning_rate*dw2\n",
    "    b2 = b2 - learning_rate*db2\n",
    "    \n",
    "    Parameters = {\n",
    "        \"w1\" : w1, \n",
    "        \"b1\" : b1, \n",
    "        \"w2\" : w2,\n",
    "        \"b2\" : b2\n",
    "    }\n",
    "    \n",
    "    return Parameters"
   ]
  },
  {
   "cell_type": "markdown",
   "metadata": {},
   "source": [
    "# Model"
   ]
  },
  {
   "cell_type": "code",
   "execution_count": 21,
   "metadata": {},
   "outputs": [],
   "source": [
    "def model(x, y, n_h, learning_rate, iterations):\n",
    "    n_x = x.shape[0]\n",
    "    n_y = y.shape[0]\n",
    "    \n",
    "    cost_list = []\n",
    "    parameters = initialize_parameters(n_x, n_h, n_y)\n",
    "   \n",
    "    for i in range(iterations+1):\n",
    "        \n",
    "        cache = forward_prop(X, parameters)\n",
    "     \n",
    "        cost = cost_function(cache['a2'], y)\n",
    "        \n",
    "        grads = backward_prop(X, y, n_h, parameters, cache)\n",
    "        \n",
    "        parameters = update_parameters(parameters, grads, learning_rate)\n",
    "        \n",
    "        cost_list.append(cost)\n",
    "        \n",
    "        if i%(iterations/10) == 0 :\n",
    "            print(\"cost after\", i, \"iters is\" , cost)\n",
    "    \n",
    "    return parameters, cost_list"
   ]
  },
  {
   "cell_type": "code",
   "execution_count": 107,
   "metadata": {
    "scrolled": true
   },
   "outputs": [
    {
     "name": "stdout",
     "output_type": "stream",
     "text": [
      "cost after 0 iters is 6.512044115132253\n",
      "cost after 50 iters is 1.327251929406327\n",
      "cost after 100 iters is 1.0578487060456983\n",
      "cost after 150 iters is 0.9561188423277381\n",
      "cost after 200 iters is 0.8580544401665398\n",
      "cost after 250 iters is 0.8218696642084294\n",
      "cost after 300 iters is 0.7709186048885803\n",
      "cost after 350 iters is 0.7326632332985531\n",
      "cost after 400 iters is 0.7007855583242687\n",
      "cost after 450 iters is 0.6830083945381906\n",
      "\n",
      "Time taken for execution is 96.56 minutes\n"
     ]
    }
   ],
   "source": [
    "iterations = 500\n",
    "starttime = time.time()\n",
    "Parameters, Cost_list = model(X, Y, n_h = 1000, learning_rate = 0.03, iterations = iterations)\n",
    "endtime = time.time()\n",
    "\n",
    "times = endtime - starttime\n",
    "mintimes = times/60\n",
    "if times > 200 :\n",
    "    print(\"\\nTime taken for execution is %.2f\" %mintimes,\"minutes\")\n",
    "else:\n",
    "    print(\"\\nTime taken for execution is %.2f\" %times,\"seconds\")"
   ]
  },
  {
   "cell_type": "markdown",
   "metadata": {},
   "source": [
    "# Ploting cost function"
   ]
  },
  {
   "cell_type": "code",
   "execution_count": 108,
   "metadata": {},
   "outputs": [
    {
     "data": {
      "image/png": "[encoded data removed]",
      "text/plain": [
       "<Figure size 432x288 with 1 Axes>"
      ]
     },
     "metadata": {},
     "output_type": "display_data"
    }
   ],
   "source": [
    "t = np.arange(0, iterations)\n",
    "plt.plot(t, Cost_list)\n",
    "plt.show()"
   ]
  },
  {
   "cell_type": "markdown",
   "metadata": {},
   "source": [
    "# Accuracy"
   ]
  },
  {
   "cell_type": "code",
   "execution_count": 109,
   "metadata": {},
   "outputs": [],
   "source": [
    "Cache = forward_prop(X, Parameters)\n",
    "aprob = Cache['a2']\n",
    "apred = aprob.max(0)\n",
    "apred = apred.reshape(1, 1000)\n",
    "ypred = []\n",
    "for i in range(Y.shape[1]):\n",
    "    for j in range(Y.shape[0]):\n",
    "        if apred[:,i] == aprob[j][i]:\n",
    "            ypred.append(j)\n",
    "ypred = np.array(ypred).reshape(1,1000)"
   ]
  },
  {
   "cell_type": "code",
   "execution_count": 110,
   "metadata": {},
   "outputs": [
    {
     "name": "stdout",
     "output_type": "stream",
     "text": [
      "Our accuracy is 94.70\n"
     ]
    }
   ],
   "source": [
    "accuracy = np.mean(Yr.T == ypred)*100\n",
    "print(\"Our accuracy is %.2f\" %accuracy)"
   ]
  },
  {
   "cell_type": "markdown",
   "metadata": {},
   "source": [
    "# For Test Dataset"
   ]
  },
  {
   "cell_type": "code",
   "execution_count": 113,
   "metadata": {},
   "outputs": [],
   "source": [
    "X_t = np.loadtxt('test_X_350.csv', delimiter = ',').T\n",
    "Y_t = np.loadtxt('test_label_350.csv', delimiter = ',')"
   ]
  },
  {
   "cell_type": "code",
   "execution_count": 116,
   "metadata": {},
   "outputs": [],
   "source": [
    "Cache_test = forward_prop(X_t, Parameters)\n",
    "aprob_t = Cache_test['a2']\n",
    "apred_t = aprob_t.max(0)\n",
    "apred_t = apred_t.reshape(1, aprob_t.shape[1])\n",
    "ypred_t = []\n",
    "for i in range(aprob_t.shape[1]):\n",
    "    for j in range(aprob_t.shape[0]):\n",
    "        if apred_t[:,i] == aprob_t[j][i]:\n",
    "            ypred_t.append(j)\n",
    "ypred_t = np.array(ypred_t).reshape(1,aprob_t.shape[1])"
   ]
  },
  {
   "cell_type": "markdown",
   "metadata": {},
   "source": [
    "# Test Accuracy"
   ]
  },
  {
   "cell_type": "code",
   "execution_count": 117,
   "metadata": {},
   "outputs": [
    {
     "name": "stdout",
     "output_type": "stream",
     "text": [
      "Our accuracy is 85.14\n"
     ]
    }
   ],
   "source": [
    "accuracy_t = np.mean(Y_t.T == ypred_t)*100\n",
    "print(\"Our accuracy is %.2f\" %accuracy_t)"
   ]
  },
  {
   "cell_type": "markdown",
   "metadata": {},
   "source": [
    "# Visualize our Prediction"
   ]
  },
  {
   "cell_type": "code",
   "execution_count": 122,
   "metadata": {},
   "outputs": [
    {
     "name": "stdout",
     "output_type": "stream",
     "text": [
      "Our Neural Network says, this is [4]\n"
     ]
    },
    {
     "data": {
      "image/png": "[encoded data removed]",
      "text/plain": [
       "<Figure size 432x288 with 1 Axes>"
      ]
     },
     "metadata": {},
     "output_type": "display_data"
    }
   ],
   "source": [
    "index = random.randrange(Y_t.shape[0])\n",
    "print(\"Our Neural Network says, this is\", ypred_t[:, index])\n",
    "plt.imshow(X_t[:, index].reshape(28,28), cmap = 'gray')\n",
    "plt.show()"
   ]
  },
  {
   "cell_type": "code",
   "execution_count": null,
   "metadata": {},
   "outputs": [],
   "source": []
  },
  {
   "cell_type": "code",
   "execution_count": null,
   "metadata": {},
   "outputs": [],
   "source": []
  }
 ],
 "metadata": {
  "kernelspec": {
   "display_name": "Python 3",
   "language": "python",
   "name": "python3"
  },
  "language_info": {
   "codemirror_mode": {
    "name": "ipython",
    "version": 3
   },
   "file_extension": ".py",
   "mimetype": "text/x-python",
   "name": "python",
   "nbconvert_exporter": "python",
   "pygments_lexer": "ipython3",
   "version": "3.6.0"
  }
 },
 "nbformat": 4,
 "nbformat_minor": 2
}
