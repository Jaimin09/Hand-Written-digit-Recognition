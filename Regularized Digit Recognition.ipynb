{
 "cells": [
  {
   "cell_type": "code",
   "execution_count": 178,
   "metadata": {},
   "outputs": [],
   "source": [
    "import numpy as np\n",
    "import matplotlib.pyplot as plt\n",
    "import random"
   ]
  },
  {
   "cell_type": "markdown",
   "metadata": {},
   "source": [
    "# Loading csv type data of Hand Written Digits"
   ]
  },
  {
   "cell_type": "code",
   "execution_count": 179,
   "metadata": {},
   "outputs": [],
   "source": [
    "X = np.loadtxt('train_X_1000.csv', delimiter = ',')\n",
    "Y = np.loadtxt('train_label_1000_mx10.csv', delimiter = ',')\n",
    "Yr = np.loadtxt('train_label_1000.csv', delimiter= ',')\n",
    "\n",
    "X = X.T\n",
    "Y = Y.T"
   ]
  },
  {
   "cell_type": "markdown",
   "metadata": {},
   "source": [
    "# Visualizing images from dataset randomly"
   ]
  },
  {
   "cell_type": "code",
   "execution_count": 180,
   "metadata": {},
   "outputs": [
    {
     "data": {
      "image/png": "[encoded data removed]",
      "text/plain": [
       "<Figure size 432x288 with 1 Axes>"
      ]
     },
     "metadata": {},
     "output_type": "display_data"
    }
   ],
   "source": [
    "index = int(random.randrange(0,X.shape[1]))\n",
    "plt.imshow(X[:, index].reshape((28,28)),cmap='gray')\n",
    "plt.show()"
   ]
  },
  {
   "cell_type": "markdown",
   "metadata": {},
   "source": [
    "# Sigmoid and initialization with zeros"
   ]
  },
  {
   "cell_type": "code",
   "execution_count": 228,
   "metadata": {},
   "outputs": [],
   "source": [
    "def sigmoid(z):\n",
    "    s = 1/(1+ np.exp(-z))\n",
    "    return s"
   ]
  },
  {
   "cell_type": "code",
   "execution_count": 229,
   "metadata": {},
   "outputs": [],
   "source": [
    "w = np.zeros((10,784))\n",
    "b = np.zeros((10,1))"
   ]
  },
  {
   "cell_type": "markdown",
   "metadata": {},
   "source": [
    "# Cost Function"
   ]
  },
  {
   "cell_type": "code",
   "execution_count": 230,
   "metadata": {},
   "outputs": [],
   "source": [
    "def compute_cost_reg(w,b,x, y, lambd):\n",
    "    m = x.shape[1]\n",
    "    z = np.dot(w, X) + b\n",
    "    a = sigmoid(z)\n",
    "    cost = -(1/m)*np.sum(y*np.log(a) + (1-y)*np.log(1-a)) + (lambd/(2*m))*np.sum(np.square(w))\n",
    "    dw =  (1/m)*np.dot((a-y), X.T) + (lambd/m)*w\n",
    "    db = (1/m)*np.sum((a - y), axis = 1, keepdims = True) \n",
    "      \n",
    "    return cost, dw, db"
   ]
  },
  {
   "cell_type": "markdown",
   "metadata": {},
   "source": [
    "# Gradient"
   ]
  },
  {
   "cell_type": "code",
   "execution_count": 231,
   "metadata": {},
   "outputs": [],
   "source": [
    "def grad(w, b, x, y, learning_rate, iterations, lambd):\n",
    "\n",
    "    cost_list = []\n",
    "    for i in range(iterations + 1):\n",
    "        cost, dw, db = compute_cost_reg(w, b, x, y, lambd)\n",
    "        w = w - learning_rate*dw\n",
    "        b = b - learning_rate*db\n",
    "        cost_list.append(cost)\n",
    "        \n",
    "        if i%(iterations/5) == 0 :\n",
    "            print(\"Cost after \", i ,\"iterations is \", cost)\n",
    "    \n",
    "    return w, b, cost_list"
   ]
  },
  {
   "cell_type": "markdown",
   "metadata": {},
   "source": [
    "# Model implementation"
   ]
  },
  {
   "cell_type": "code",
   "execution_count": 232,
   "metadata": {},
   "outputs": [
    {
     "name": "stdout",
     "output_type": "stream",
     "text": [
      "Cost after  0 iterations is  6.931471805599453\n",
      "Cost after  100 iterations is  0.6125786288540486\n",
      "Cost after  200 iterations is  0.46056914584776104\n",
      "Cost after  300 iterations is  0.3776777259794881\n",
      "Cost after  400 iterations is  0.32306800054726686\n",
      "Cost after  500 iterations is  0.28342695153400554\n"
     ]
    }
   ],
   "source": [
    "iter = 500\n",
    "Wr, Br, Cost_list_reg = grad(w, b, X, Y, learning_rate = 0.000015, iterations = iter, lambd = 0.9)"
   ]
  },
  {
   "cell_type": "code",
   "execution_count": 216,
   "metadata": {},
   "outputs": [
    {
     "name": "stdout",
     "output_type": "stream",
     "text": [
      "Cost after  0 iterations is  6.931471805599453\n",
      "Cost after  100 iterations is  0.6125775717649785\n",
      "Cost after  200 iterations is  0.46056731913836263\n",
      "Cost after  300 iterations is  0.3776751843789375\n",
      "Cost after  400 iterations is  0.32306479043552316\n",
      "Cost after  500 iterations is  0.28342311029898765\n"
     ]
    }
   ],
   "source": [
    "W, B, Cost_list = grad(w, b, X, Y, learning_rate = 0.000015, iterations = iter, lambd = 0)"
   ]
  },
  {
   "cell_type": "markdown",
   "metadata": {},
   "source": [
    "# Ploting Cost function v/s Iterations"
   ]
  },
  {
   "cell_type": "code",
   "execution_count": 233,
   "metadata": {},
   "outputs": [
    {
     "data": {
      "image/png": "[encoded data removed]",
      "text/plain": [
       "<Figure size 432x288 with 1 Axes>"
      ]
     },
     "metadata": {},
     "output_type": "display_data"
    }
   ],
   "source": [
    "t = np.arange(0, iter+1)\n",
    "plt.plot(t, Cost_list, label = 'Non_regularised')\n",
    "plt.plot(t, Cost_list_reg, label = 'regularised')\n",
    "\n",
    "plt.xlabel('Iterations')\n",
    "plt.ylabel('Cost')\n",
    "plt.title('Cost Function v/s Iterations')\n",
    "plt.legend()\n",
    "plt.show()"
   ]
  },
  {
   "cell_type": "markdown",
   "metadata": {},
   "source": [
    "# For Training set"
   ]
  },
  {
   "cell_type": "code",
   "execution_count": 234,
   "metadata": {},
   "outputs": [],
   "source": [
    "z_prob = np.dot(W, X) + B\n",
    "a_prob = sigmoid(z_prob)\n",
    "a_pred  = a_prob.max(0)\n",
    "y_pred = []\n",
    "\n",
    "for i in range(z_prob.shape[1]):\n",
    "    for j in range(z_prob.shape[0]):\n",
    "        if a_prob[j][i] == a_pred[i]:\n",
    "            y_pred.append(j)\n",
    "\n",
    "y_pred = np.array(y_pred)\n",
    "Y_pred = np.reshape(y_pred, (z_prob.shape[1],1))"
   ]
  },
  {
   "cell_type": "code",
   "execution_count": 235,
   "metadata": {},
   "outputs": [],
   "source": [
    "z_prob_r= np.dot(Wr, X) + Br\n",
    "a_prob_r = sigmoid(z_prob_r)\n",
    "a_pred_r  = a_prob_r.max(0)\n",
    "y_pred_r = []\n",
    "\n",
    "for i in range(z_prob_r.shape[1]):\n",
    "    for j in range(z_prob_r.shape[0]):\n",
    "        if a_prob_r[j][i] == a_pred_r[i]:\n",
    "            y_pred_r.append(j)\n",
    "\n",
    "y_pred_r = np.array(y_pred_r)\n",
    "Y_pred_rr = np.reshape(y_pred_r, (z_prob_r.shape[1],1))"
   ]
  },
  {
   "cell_type": "markdown",
   "metadata": {},
   "source": [
    "# Training Accuracy"
   ]
  },
  {
   "cell_type": "code",
   "execution_count": 236,
   "metadata": {},
   "outputs": [
    {
     "name": "stdout",
     "output_type": "stream",
     "text": [
      "Our accuracy is 99.10 %\n"
     ]
    }
   ],
   "source": [
    "accuracy = np.mean(Yr == Y_pred.T)*100\n",
    "print(\"Our accuracy is %.2f\" % accuracy, \"%\")"
   ]
  },
  {
   "cell_type": "code",
   "execution_count": 237,
   "metadata": {},
   "outputs": [
    {
     "name": "stdout",
     "output_type": "stream",
     "text": [
      "Our regularized accuracy is 99.10 %\n"
     ]
    }
   ],
   "source": [
    "accuracy_rr = np.mean(Yr == Y_pred_rr.T)*100\n",
    "print(\"Our regularized accuracy is %.2f\" % accuracy_rr, \"%\")"
   ]
  },
  {
   "cell_type": "markdown",
   "metadata": {},
   "source": [
    "# For Test set"
   ]
  },
  {
   "cell_type": "code",
   "execution_count": 238,
   "metadata": {},
   "outputs": [],
   "source": [
    "X_t = np.loadtxt('test_X_350.csv', delimiter = ',')\n",
    "Y_t = np.loadtxt('test_label_350.csv', delimiter = ',')\n",
    "\n",
    "X_t = X_t.T\n",
    "Y_t = np.reshape(Y_t, (1,Y_t.shape[0]))"
   ]
  },
  {
   "cell_type": "code",
   "execution_count": 239,
   "metadata": {},
   "outputs": [],
   "source": [
    "z_test_prob = np.dot(W, X_t) + B\n",
    "a_test_prob = sigmoid(z_test_prob)\n",
    "a_test_pred = a_test_prob.max(0)\n",
    "y_test_pred = []\n",
    "\n",
    "for i in range(z_test_prob.shape[1]):\n",
    "    for j in range(z_test_prob.shape[0]):\n",
    "        if a_test_prob[j][i] == a_test_pred[i]:\n",
    "            y_test_pred.append(j)\n",
    "            \n",
    "y_test_pred = np.array(y_test_pred)\n",
    "y_test_pred = np.reshape(y_test_pred, (z_test_prob.shape[1], 1))"
   ]
  },
  {
   "cell_type": "code",
   "execution_count": 240,
   "metadata": {},
   "outputs": [],
   "source": [
    "z_test_prob_r = np.dot(Wr, X_t) + Br\n",
    "a_test_prob_r = sigmoid(z_test_prob_r)\n",
    "a_test_pred_r = a_test_prob_r.max(0)\n",
    "y_test_pred_r = []\n",
    "\n",
    "for i in range(z_test_prob_r.shape[1]):\n",
    "    for j in range(z_test_prob_r.shape[0]):\n",
    "        if a_test_prob_r[j][i] == a_test_pred_r[i]:\n",
    "            y_test_pred_r.append(j)\n",
    "            \n",
    "y_test_pred_r = np.array(y_test_pred_r)\n",
    "y_test_pred_rr = np.reshape(y_test_pred_r, (z_test_prob_r.shape[1], 1))"
   ]
  },
  {
   "cell_type": "markdown",
   "metadata": {},
   "source": [
    "# Test Accuracy"
   ]
  },
  {
   "cell_type": "code",
   "execution_count": 244,
   "metadata": {},
   "outputs": [
    {
     "name": "stdout",
     "output_type": "stream",
     "text": [
      "Our Test accuracy is 86.57 %\n"
     ]
    }
   ],
   "source": [
    "accuracy = np.mean(y_test_pred == Y_t.T)*100\n",
    "print(\"Our Test accuracy is %.2f\" %accuracy, \"%\")"
   ]
  },
  {
   "cell_type": "code",
   "execution_count": 245,
   "metadata": {},
   "outputs": [
    {
     "name": "stdout",
     "output_type": "stream",
     "text": [
      "Our Regularized Test accuracy is 86.57 %\n"
     ]
    }
   ],
   "source": [
    "accuracy_r = np.mean(y_test_pred_r == Y_t.T)*100\n",
    "print(\"Our Regularized Test accuracy is %.2f\" %accuracy, \"%\")"
   ]
  },
  {
   "cell_type": "markdown",
   "metadata": {},
   "source": [
    "# Lets visualize our Test set accuracy"
   ]
  },
  {
   "cell_type": "code",
   "execution_count": 246,
   "metadata": {},
   "outputs": [
    {
     "name": "stdout",
     "output_type": "stream",
     "text": [
      "AI (our algorithm says) : This is  [5]\n"
     ]
    },
    {
     "data": {
      "image/png": "[encoded data removed]",
      "text/plain": [
       "<Figure size 432x288 with 1 Axes>"
      ]
     },
     "metadata": {},
     "output_type": "display_data"
    }
   ],
   "source": [
    "index = random.randrange(z_test_prob.shape[1])\n",
    "\n",
    "plt.imshow(X_t[:,index].reshape(28,28), cmap = 'gray')\n",
    "print(\"AI (our algorithm says) : This is \", y_test_pred[index,:])\n",
    "plt.show()"
   ]
  },
  {
   "cell_type": "markdown",
   "metadata": {},
   "source": [
    "# Accuracy History\n",
    "\n",
    "    For learning_rate = .000015\n",
    " For iter = 50,   train = 92.40% , test = 87.40% \n",
    " \n",
    " For iter = 500,  train = 99.10% , test = 88.00%\n",
    " \n",
    " For iter = 1000, train = 99.90% , test = 87.50%\n",
    " \n",
    "    For learning_rate = 0.00002\n",
    " For iter = 1000, train = 99.90 , test = 87.30%"
   ]
  },
  {
   "cell_type": "markdown",
   "metadata": {},
   "source": [
    "# Conclusion : There would be no impact of applying regularization if \n",
    "# the dataset it small, as in our case. It will show impact for large dataset."
   ]
  },
  {
   "cell_type": "code",
   "execution_count": null,
   "metadata": {},
   "outputs": [],
   "source": []
  }
 ],
 "metadata": {
  "kernelspec": {
   "display_name": "Python 3",
   "language": "python",
   "name": "python3"
  },
  "language_info": {
   "codemirror_mode": {
    "name": "ipython",
    "version": 3
   },
   "file_extension": ".py",
   "mimetype": "text/x-python",
   "name": "python",
   "nbconvert_exporter": "python",
   "pygments_lexer": "ipython3",
   "version": "3.6.0"
  }
 },
 "nbformat": 4,
 "nbformat_minor": 2
}
